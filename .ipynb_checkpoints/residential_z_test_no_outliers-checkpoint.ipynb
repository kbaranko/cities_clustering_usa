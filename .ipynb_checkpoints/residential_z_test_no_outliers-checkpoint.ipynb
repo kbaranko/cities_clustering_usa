{
 "cells": [
  {
   "cell_type": "markdown",
   "metadata": {},
   "source": [
    "Define database, import necessary packages"
   ]
  },
  {
   "cell_type": "code",
   "execution_count": 174,
   "metadata": {},
   "outputs": [],
   "source": [
    "db_name = 'City_Energy_Data'\n",
    "import mysql.connector \n",
    "import pandas as pd\n",
    "import config\n",
    "import seaborn as sns\n",
    "import matplotlib.pyplot as plt\n",
    "import numpy as np\n",
    "%matplotlib inline"
   ]
  },
  {
   "cell_type": "code",
   "execution_count": 175,
   "metadata": {},
   "outputs": [],
   "source": [
    "cnx = mysql.connector.connect(\n",
    "    host = config.host,\n",
    "    user = config.user,\n",
    "    passwd = config.passwd,\n",
    "    database = db_name\n",
    ")\n",
    "cur = cnx.cursor()"
   ]
  },
  {
   "cell_type": "code",
   "execution_count": 176,
   "metadata": {},
   "outputs": [],
   "source": [
    "stmt = \"\"\"\n",
    "SELECT p.city, p.state, p.population, r.housing_units, r.elec_mwh, r.elec_lb_ghg\n",
    "FROM population_data AS p\n",
    "INNER JOIN residential_energy_A AS r ON p.city_id=r.city_id;\n",
    "\"\"\"\n",
    "cur.execute(stmt)\n",
    "clean_rdf = pd.DataFrame(cur.fetchall())\n",
    "clean_rdf.columns = [x[0] for x in cur.description]"
   ]
  },
  {
   "cell_type": "code",
   "execution_count": 177,
   "metadata": {},
   "outputs": [],
   "source": [
    "clean_rdf['population'] = clean_rdf['population'].apply(lambda x: x.replace(',', ''))\n",
    "clean_rdf['population'] = clean_rdf['population'].astype(int)"
   ]
  },
  {
   "cell_type": "code",
   "execution_count": 178,
   "metadata": {},
   "outputs": [],
   "source": [
    "def elec_person(population, elec_mwh):\n",
    "    elec_person = None \n",
    "    try:\n",
    "        elec_person = elec_mwh / population\n",
    "    except:\n",
    "        elec_mwh == 0 or population == 0\n",
    "    return elec_person\n",
    "\n",
    "def ghg_person(population, lb_ghg):\n",
    "    ghg_person = None\n",
    "    try:\n",
    "        ghg_person = lb_ghg / population\n",
    "    except:\n",
    "        lb_ghg == 0 or population == 0\n",
    "    return ghg_person\n",
    "        "
   ]
  },
  {
   "cell_type": "code",
   "execution_count": 179,
   "metadata": {},
   "outputs": [],
   "source": [
    "clean_rdf['elec_per_person'] = clean_rdf.apply(lambda x: elec_person(x.population, x.elec_mwh), axis=1)"
   ]
  },
  {
   "cell_type": "code",
   "execution_count": 180,
   "metadata": {},
   "outputs": [],
   "source": [
    "clean_rdf['ghg_per_person'] = clean_rdf.apply(lambda x: ghg_person(x.population, x.elec_lb_ghg), axis=1)"
   ]
  },
  {
   "cell_type": "code",
   "execution_count": 181,
   "metadata": {
    "scrolled": true
   },
   "outputs": [
    {
     "data": {
      "text/html": [
       "<div>\n",
       "<style scoped>\n",
       "    .dataframe tbody tr th:only-of-type {\n",
       "        vertical-align: middle;\n",
       "    }\n",
       "\n",
       "    .dataframe tbody tr th {\n",
       "        vertical-align: top;\n",
       "    }\n",
       "\n",
       "    .dataframe thead th {\n",
       "        text-align: right;\n",
       "    }\n",
       "</style>\n",
       "<table border=\"1\" class=\"dataframe\">\n",
       "  <thead>\n",
       "    <tr style=\"text-align: right;\">\n",
       "      <th></th>\n",
       "      <th>city</th>\n",
       "      <th>state</th>\n",
       "      <th>population</th>\n",
       "      <th>housing_units</th>\n",
       "      <th>elec_mwh</th>\n",
       "      <th>elec_lb_ghg</th>\n",
       "      <th>elec_per_person</th>\n",
       "      <th>ghg_per_person</th>\n",
       "    </tr>\n",
       "  </thead>\n",
       "  <tbody>\n",
       "    <tr>\n",
       "      <th>0</th>\n",
       "      <td>New York</td>\n",
       "      <td>NY</td>\n",
       "      <td>8363710</td>\n",
       "      <td>3128246.0</td>\n",
       "      <td>14872960.0</td>\n",
       "      <td>2.147484e+09</td>\n",
       "      <td>1.778273</td>\n",
       "      <td>256.762088</td>\n",
       "    </tr>\n",
       "    <tr>\n",
       "      <th>1</th>\n",
       "      <td>Los Angeles</td>\n",
       "      <td>CA</td>\n",
       "      <td>3833995</td>\n",
       "      <td>1355074.0</td>\n",
       "      <td>9043891.0</td>\n",
       "      <td>2.147484e+09</td>\n",
       "      <td>2.358869</td>\n",
       "      <td>560.116444</td>\n",
       "    </tr>\n",
       "    <tr>\n",
       "      <th>2</th>\n",
       "      <td>Chicago</td>\n",
       "      <td>IL</td>\n",
       "      <td>2853114</td>\n",
       "      <td>1042539.0</td>\n",
       "      <td>7211287.0</td>\n",
       "      <td>2.147484e+09</td>\n",
       "      <td>2.527514</td>\n",
       "      <td>752.680631</td>\n",
       "    </tr>\n",
       "    <tr>\n",
       "      <th>3</th>\n",
       "      <td>Houston</td>\n",
       "      <td>TX</td>\n",
       "      <td>2242193</td>\n",
       "      <td>829402.0</td>\n",
       "      <td>10547389.0</td>\n",
       "      <td>2.147484e+09</td>\n",
       "      <td>4.704050</td>\n",
       "      <td>957.760392</td>\n",
       "    </tr>\n",
       "    <tr>\n",
       "      <th>4</th>\n",
       "      <td>Phoenix</td>\n",
       "      <td>AZ</td>\n",
       "      <td>1567924</td>\n",
       "      <td>537950.0</td>\n",
       "      <td>7371754.0</td>\n",
       "      <td>2.147484e+09</td>\n",
       "      <td>4.701602</td>\n",
       "      <td>1369.635038</td>\n",
       "    </tr>\n",
       "  </tbody>\n",
       "</table>\n",
       "</div>"
      ],
      "text/plain": [
       "           city state  population  housing_units    elec_mwh   elec_lb_ghg  \\\n",
       "0     New York     NY     8363710      3128246.0  14872960.0  2.147484e+09   \n",
       "1  Los Angeles     CA     3833995      1355074.0   9043891.0  2.147484e+09   \n",
       "2      Chicago     IL     2853114      1042539.0   7211287.0  2.147484e+09   \n",
       "3      Houston     TX     2242193       829402.0  10547389.0  2.147484e+09   \n",
       "4      Phoenix     AZ     1567924       537950.0   7371754.0  2.147484e+09   \n",
       "\n",
       "   elec_per_person  ghg_per_person  \n",
       "0         1.778273      256.762088  \n",
       "1         2.358869      560.116444  \n",
       "2         2.527514      752.680631  \n",
       "3         4.704050      957.760392  \n",
       "4         4.701602     1369.635038  "
      ]
     },
     "execution_count": 181,
     "metadata": {},
     "output_type": "execute_result"
    }
   ],
   "source": [
    "clean_rdf.head()"
   ]
  },
  {
   "cell_type": "markdown",
   "metadata": {},
   "source": [
    "Drop Outliers"
   ]
  },
  {
   "cell_type": "code",
   "execution_count": 182,
   "metadata": {},
   "outputs": [],
   "source": [
    "clean_rdf.drop(clean_rdf[clean_rdf.population > 900000 ].index, inplace = True)\n",
    "clean_rdf.drop(clean_rdf[clean_rdf.elec_per_person > 10].index, inplace = True)"
   ]
  },
  {
   "cell_type": "code",
   "execution_count": 183,
   "metadata": {},
   "outputs": [
    {
     "name": "stderr",
     "output_type": "stream",
     "text": [
      "/Users/kylebaranko/anaconda3/envs/learn-env/lib/python3.6/site-packages/numpy/lib/histograms.py:824: RuntimeWarning: invalid value encountered in greater_equal\n",
      "  keep = (tmp_a >= first_edge)\n",
      "/Users/kylebaranko/anaconda3/envs/learn-env/lib/python3.6/site-packages/numpy/lib/histograms.py:825: RuntimeWarning: invalid value encountered in less_equal\n",
      "  keep &= (tmp_a <= last_edge)\n",
      "/Users/kylebaranko/anaconda3/envs/learn-env/lib/python3.6/site-packages/statsmodels/nonparametric/kde.py:448: RuntimeWarning: invalid value encountered in greater\n",
      "  X = X[np.logical_and(X > clip[0], X < clip[1])] # won't work for two columns.\n",
      "/Users/kylebaranko/anaconda3/envs/learn-env/lib/python3.6/site-packages/statsmodels/nonparametric/kde.py:448: RuntimeWarning: invalid value encountered in less\n",
      "  X = X[np.logical_and(X > clip[0], X < clip[1])] # won't work for two columns.\n",
      "/Users/kylebaranko/anaconda3/envs/learn-env/lib/python3.6/site-packages/scipy/stats/stats.py:1713: FutureWarning: Using a non-tuple sequence for multidimensional indexing is deprecated; use `arr[tuple(seq)]` instead of `arr[seq]`. In the future this will be interpreted as an array index, `arr[np.array(seq)]`, which will result either in an error or a different result.\n",
      "  return np.add.reduce(sorted[indexer] * weights, axis=axis) / sumval\n"
     ]
    },
    {
     "data": {
      "text/plain": [
       "Text(0.5, 0, 'MWh per Individual')"
      ]
     },
     "execution_count": 183,
     "metadata": {},
     "output_type": "execute_result"
    },
    {
     "data": {
      "image/png": "[encoded data removed]",
      "text/plain": [
       "<Figure size 720x720 with 1 Axes>"
      ]
     },
     "metadata": {
      "needs_background": "light"
     },
     "output_type": "display_data"
    }
   ],
   "source": [
    "plt.figure(figsize=(10,10))\n",
    "sns.distplot(clean_rdf['elec_per_person'], bins=100, color='m').set_title('Electricity Consumption by US Cities')\n",
    "plt.xlabel('MWh per Individual', fontsize=12)\n",
    "\n",
    "\n",
    "\n",
    "\n"
   ]
  },
  {
   "cell_type": "code",
   "execution_count": 184,
   "metadata": {},
   "outputs": [],
   "source": [
    "import math\n",
    "import scipy.stats as stats"
   ]
  },
  {
   "cell_type": "code",
   "execution_count": 238,
   "metadata": {},
   "outputs": [],
   "source": [
    "populous_bois = clean_rdf.sort_values('population', ascending=False).head(250)"
   ]
  },
  {
   "cell_type": "code",
   "execution_count": 186,
   "metadata": {},
   "outputs": [
    {
     "name": "stderr",
     "output_type": "stream",
     "text": [
      "/Users/kylebaranko/anaconda3/envs/learn-env/lib/python3.6/site-packages/scipy/stats/stats.py:1713: FutureWarning: Using a non-tuple sequence for multidimensional indexing is deprecated; use `arr[tuple(seq)]` instead of `arr[seq]`. In the future this will be interpreted as an array index, `arr[np.array(seq)]`, which will result either in an error or a different result.\n",
      "  return np.add.reduce(sorted[indexer] * weights, axis=axis) / sumval\n"
     ]
    },
    {
     "data": {
      "text/plain": [
       "<matplotlib.axes._subplots.AxesSubplot at 0x1a1ea231d0>"
      ]
     },
     "execution_count": 186,
     "metadata": {},
     "output_type": "execute_result"
    },
    {
     "data": {
      "image/png": "[encoded data removed]",
      "text/plain": [
       "<Figure size 432x288 with 1 Axes>"
      ]
     },
     "metadata": {
      "needs_background": "light"
     },
     "output_type": "display_data"
    }
   ],
   "source": [
    "sns.distplot(populous_bois['elec_per_person'], bins=50)"
   ]
  },
  {
   "cell_type": "code",
   "execution_count": 243,
   "metadata": {},
   "outputs": [
    {
     "data": {
      "text/plain": [
       "(4.592813777817618e-07, -4.908327706285293)"
      ]
     },
     "execution_count": 243,
     "metadata": {},
     "output_type": "execute_result"
    }
   ],
   "source": [
    "mu = clean_rdf['elec_per_person'].mean()\n",
    "sigma = clean_rdf['elec_per_person'].std() \n",
    "n= len(populous_bois)\n",
    "x_bar = populous_bois['elec_per_person'].mean()\n",
    "z = (x_bar - mu)/(sigma/math.sqrt(n))\n",
    "\n",
    "p = stats.norm.cdf(z)\n",
    "\n",
    "p,z"
   ]
  },
  {
   "cell_type": "code",
   "execution_count": 188,
   "metadata": {},
   "outputs": [],
   "source": [
    "rural_bois = clean_rdf.sort_values('population', ascending=True).head(250)"
   ]
  },
  {
   "cell_type": "code",
   "execution_count": 189,
   "metadata": {},
   "outputs": [
    {
     "name": "stderr",
     "output_type": "stream",
     "text": [
      "/Users/kylebaranko/anaconda3/envs/learn-env/lib/python3.6/site-packages/scipy/stats/stats.py:1713: FutureWarning: Using a non-tuple sequence for multidimensional indexing is deprecated; use `arr[tuple(seq)]` instead of `arr[seq]`. In the future this will be interpreted as an array index, `arr[np.array(seq)]`, which will result either in an error or a different result.\n",
      "  return np.add.reduce(sorted[indexer] * weights, axis=axis) / sumval\n"
     ]
    },
    {
     "data": {
      "text/plain": [
       "<matplotlib.axes._subplots.AxesSubplot at 0x1a1ffa43c8>"
      ]
     },
     "execution_count": 189,
     "metadata": {},
     "output_type": "execute_result"
    },
    {
     "data": {
      "image/png": "[encoded data removed]",
      "text/plain": [
       "<Figure size 432x288 with 1 Axes>"
      ]
     },
     "metadata": {
      "needs_background": "light"
     },
     "output_type": "display_data"
    }
   ],
   "source": [
    "sns.distplot(rural_bois['elec_per_person'], bins=50)"
   ]
  },
  {
   "cell_type": "code",
   "execution_count": 244,
   "metadata": {},
   "outputs": [
    {
     "data": {
      "text/plain": [
       "(0.9999999993358756, 6.063942232448783)"
      ]
     },
     "execution_count": 244,
     "metadata": {},
     "output_type": "execute_result"
    }
   ],
   "source": [
    "mu = clean_rdf['elec_per_person'].mean()\n",
    "sigma = clean_rdf['elec_per_person'].std() \n",
    "n= len(rural_bois)\n",
    "x_bar = rural_bois['elec_per_person'].mean()\n",
    "z = (x_bar - mu)/(sigma/math.sqrt(n))\n",
    "p = stats.norm.cdf(z)\n",
    "\n",
    "p,z"
   ]
  },
  {
   "cell_type": "code",
   "execution_count": 191,
   "metadata": {},
   "outputs": [
    {
     "data": {
      "text/plain": [
       "[4.2179752294281805, 3.7842426855114017, 4.7538255735843835]"
      ]
     },
     "execution_count": 191,
     "metadata": {},
     "output_type": "execute_result"
    }
   ],
   "source": [
    "show = [clean_rdf['elec_per_person'].mean(), populous_bois['elec_per_person'].mean(), rural_bois['elec_per_person'].mean()]\n",
    "show"
   ]
  },
  {
   "cell_type": "code",
   "execution_count": 192,
   "metadata": {},
   "outputs": [],
   "source": [
    "import numpy"
   ]
  },
  {
   "cell_type": "code",
   "execution_count": 193,
   "metadata": {},
   "outputs": [
    {
     "data": {
      "image/png": "[encoded data removed]",
      "text/plain": [
       "<Figure size 432x288 with 1 Axes>"
      ]
     },
     "metadata": {
      "needs_background": "light"
     },
     "output_type": "display_data"
    }
   ],
   "source": [
    "plt.style.use('seaborn-deep')\n",
    "\n",
    "y = populous_bois['elec_per_person']\n",
    "z = rural_bois['elec_per_person']\n",
    "bins = np.linspace(0, 10, 30)\n",
    "\n",
    "plt.hist([y, z], bins=20, label=['y', 'z'])\n",
    "plt.legend(loc='upper right')\n",
    "plt.show()"
   ]
  },
  {
   "cell_type": "code",
   "execution_count": 194,
   "metadata": {},
   "outputs": [
    {
     "data": {
      "image/png": "[encoded data removed]",
      "text/plain": [
       "<Figure size 432x288 with 1 Axes>"
      ]
     },
     "metadata": {
      "needs_background": "light"
     },
     "output_type": "display_data"
    }
   ],
   "source": [
    "bins = numpy.linspace(0, 10, 100)\n",
    "\n",
    "plt.hist(z, bins=30, alpha=0.5, label='x')\n",
    "plt.hist(y, bins=30, alpha=0.5, label='y')\n",
    "plt.legend(loc='upper right')\n",
    "plt.show()"
   ]
  },
  {
   "cell_type": "code",
   "execution_count": 195,
   "metadata": {},
   "outputs": [
    {
     "name": "stderr",
     "output_type": "stream",
     "text": [
      "/Users/kylebaranko/anaconda3/envs/learn-env/lib/python3.6/site-packages/scipy/stats/stats.py:1713: FutureWarning: Using a non-tuple sequence for multidimensional indexing is deprecated; use `arr[tuple(seq)]` instead of `arr[seq]`. In the future this will be interpreted as an array index, `arr[np.array(seq)]`, which will result either in an error or a different result.\n",
      "  return np.add.reduce(sorted[indexer] * weights, axis=axis) / sumval\n"
     ]
    },
    {
     "data": {
      "text/plain": [
       "<matplotlib.axes._subplots.AxesSubplot at 0x1a20715eb8>"
      ]
     },
     "execution_count": 195,
     "metadata": {},
     "output_type": "execute_result"
    },
    {
     "data": {
      "image/png": "[encoded data removed]",
      "text/plain": [
       "<Figure size 432x288 with 1 Axes>"
      ]
     },
     "metadata": {
      "needs_background": "light"
     },
     "output_type": "display_data"
    }
   ],
   "source": [
    "sns.distplot(rural_bois['elec_per_person'], bins=50)"
   ]
  },
  {
   "cell_type": "code",
   "execution_count": 196,
   "metadata": {
    "scrolled": true
   },
   "outputs": [
    {
     "name": "stderr",
     "output_type": "stream",
     "text": [
      "/Users/kylebaranko/anaconda3/envs/learn-env/lib/python3.6/site-packages/scipy/stats/stats.py:1713: FutureWarning: Using a non-tuple sequence for multidimensional indexing is deprecated; use `arr[tuple(seq)]` instead of `arr[seq]`. In the future this will be interpreted as an array index, `arr[np.array(seq)]`, which will result either in an error or a different result.\n",
      "  return np.add.reduce(sorted[indexer] * weights, axis=axis) / sumval\n"
     ]
    },
    {
     "data": {
      "image/png": "[encoded data removed]",
      "text/plain": [
       "<Figure size 360x360 with 1 Axes>"
      ]
     },
     "metadata": {
      "needs_background": "light"
     },
     "output_type": "display_data"
    }
   ],
   "source": [
    "x = sns.lmplot(x='population', y='elec_per_person', data= clean_rdf)\n",
    "x_ticks=1000000\n",
    "fig = x.fig "
   ]
  },
  {
   "cell_type": "code",
   "execution_count": 230,
   "metadata": {},
   "outputs": [
    {
     "name": "stderr",
     "output_type": "stream",
     "text": [
      "/Users/kylebaranko/anaconda3/envs/learn-env/lib/python3.6/site-packages/scipy/stats/stats.py:1713: FutureWarning: Using a non-tuple sequence for multidimensional indexing is deprecated; use `arr[tuple(seq)]` instead of `arr[seq]`. In the future this will be interpreted as an array index, `arr[np.array(seq)]`, which will result either in an error or a different result.\n",
      "  return np.add.reduce(sorted[indexer] * weights, axis=axis) / sumval\n"
     ]
    },
    {
     "data": {
      "text/plain": [
       "Text(27.125, 0.5, 'MWh per Individual')"
      ]
     },
     "execution_count": 230,
     "metadata": {},
     "output_type": "execute_result"
    },
    {
     "data": {
      "text/plain": [
       "<Figure size 720x720 with 0 Axes>"
      ]
     },
     "metadata": {},
     "output_type": "display_data"
    },
    {
     "data": {
      "image/png": "[encoded data removed]",
      "text/plain": [
       "<Figure size 432x432 with 3 Axes>"
      ]
     },
     "metadata": {
      "needs_background": "light"
     },
     "output_type": "display_data"
    }
   ],
   "source": [
    "plt.figure(figsize=(10,10))\n",
    "sns.jointplot(x='population', y='elec_per_person', data= clean_rdf, kind=\"reg\", color=\"purple\")\n",
    "plt.xlabel('City Population', fontsize=12)\n",
    "plt.ylabel('MWh per Individual', fontsize=12)\n"
   ]
  },
  {
   "cell_type": "code",
   "execution_count": 198,
   "metadata": {},
   "outputs": [
    {
     "data": {
      "text/plain": [
       "count    4845.000000\n",
       "mean        4.217975\n",
       "std         1.397200\n",
       "min         0.066207\n",
       "25%         3.158969\n",
       "50%         4.167347\n",
       "75%         5.214609\n",
       "max         9.942757\n",
       "Name: elec_per_person, dtype: float64"
      ]
     },
     "execution_count": 198,
     "metadata": {},
     "output_type": "execute_result"
    }
   ],
   "source": [
    "clean_rdf['elec_per_person'].describe()"
   ]
  },
  {
   "cell_type": "code",
   "execution_count": 199,
   "metadata": {},
   "outputs": [
    {
     "name": "stderr",
     "output_type": "stream",
     "text": [
      "/Users/kylebaranko/anaconda3/envs/learn-env/lib/python3.6/site-packages/scipy/stats/stats.py:1713: FutureWarning: Using a non-tuple sequence for multidimensional indexing is deprecated; use `arr[tuple(seq)]` instead of `arr[seq]`. In the future this will be interpreted as an array index, `arr[np.array(seq)]`, which will result either in an error or a different result.\n",
      "  return np.add.reduce(sorted[indexer] * weights, axis=axis) / sumval\n"
     ]
    },
    {
     "data": {
      "image/png": "[encoded data removed]",
      "text/plain": [
       "<Figure size 720x720 with 1 Axes>"
      ]
     },
     "metadata": {
      "needs_background": "light"
     },
     "output_type": "display_data"
    }
   ],
   "source": [
    "plt.figure(figsize=(10,10))\n",
    "sns.distplot(y, label='Urban Cities', color='r', bins=50).set_title('Electricity Consumption')\n",
    "sns.distplot(z, label='Rural Cities', color='b', bins=50)\n",
    "plt.xlabel('MWh per Individual', fontsize=12)\n",
    "plt.legend();"
   ]
  },
  {
   "cell_type": "code",
   "execution_count": 200,
   "metadata": {},
   "outputs": [
    {
     "name": "stderr",
     "output_type": "stream",
     "text": [
      "/Users/kylebaranko/anaconda3/envs/learn-env/lib/python3.6/site-packages/scipy/stats/stats.py:1713: FutureWarning: Using a non-tuple sequence for multidimensional indexing is deprecated; use `arr[tuple(seq)]` instead of `arr[seq]`. In the future this will be interpreted as an array index, `arr[np.array(seq)]`, which will result either in an error or a different result.\n",
      "  return np.add.reduce(sorted[indexer] * weights, axis=axis) / sumval\n"
     ]
    },
    {
     "data": {
      "image/png": "[encoded data removed]",
      "text/plain": [
       "<Figure size 720x720 with 1 Axes>"
      ]
     },
     "metadata": {
      "needs_background": "light"
     },
     "output_type": "display_data"
    }
   ],
   "source": [
    "plt.figure(figsize=(10,10))\n",
    "sns.distplot(y, label='Urban Cities', color='r', bins=50).set_title('Electricity Consumption')\n",
    "sns.distplot(z, label='Rural Cities', color='b', bins=50)\n",
    "plt.xlabel('MWh per Individual', fontsize=12)\n",
    "plt.legend();"
   ]
  },
  {
   "cell_type": "code",
   "execution_count": 162,
   "metadata": {},
   "outputs": [
    {
     "data": {
      "text/html": [
       "<div>\n",
       "<style scoped>\n",
       "    .dataframe tbody tr th:only-of-type {\n",
       "        vertical-align: middle;\n",
       "    }\n",
       "\n",
       "    .dataframe tbody tr th {\n",
       "        vertical-align: top;\n",
       "    }\n",
       "\n",
       "    .dataframe thead th {\n",
       "        text-align: right;\n",
       "    }\n",
       "</style>\n",
       "<table border=\"1\" class=\"dataframe\">\n",
       "  <thead>\n",
       "    <tr style=\"text-align: right;\">\n",
       "      <th></th>\n",
       "      <th>population</th>\n",
       "      <th>housing_units</th>\n",
       "      <th>elec_mwh</th>\n",
       "      <th>elec_lb_ghg</th>\n",
       "      <th>elec_per_person</th>\n",
       "      <th>ghg_per_person</th>\n",
       "    </tr>\n",
       "  </thead>\n",
       "  <tbody>\n",
       "    <tr>\n",
       "      <th>population</th>\n",
       "      <td>1.000000</td>\n",
       "      <td>0.984562</td>\n",
       "      <td>0.931516</td>\n",
       "      <td>0.892108</td>\n",
       "      <td>-0.097771</td>\n",
       "      <td>-0.168812</td>\n",
       "    </tr>\n",
       "    <tr>\n",
       "      <th>housing_units</th>\n",
       "      <td>0.984562</td>\n",
       "      <td>1.000000</td>\n",
       "      <td>0.940104</td>\n",
       "      <td>0.893317</td>\n",
       "      <td>-0.054022</td>\n",
       "      <td>-0.133234</td>\n",
       "    </tr>\n",
       "    <tr>\n",
       "      <th>elec_mwh</th>\n",
       "      <td>0.931516</td>\n",
       "      <td>0.940104</td>\n",
       "      <td>1.000000</td>\n",
       "      <td>0.931619</td>\n",
       "      <td>0.082800</td>\n",
       "      <td>-0.022519</td>\n",
       "    </tr>\n",
       "    <tr>\n",
       "      <th>elec_lb_ghg</th>\n",
       "      <td>0.892108</td>\n",
       "      <td>0.893317</td>\n",
       "      <td>0.931619</td>\n",
       "      <td>1.000000</td>\n",
       "      <td>0.099667</td>\n",
       "      <td>0.053754</td>\n",
       "    </tr>\n",
       "    <tr>\n",
       "      <th>elec_per_person</th>\n",
       "      <td>-0.097771</td>\n",
       "      <td>-0.054022</td>\n",
       "      <td>0.082800</td>\n",
       "      <td>0.099667</td>\n",
       "      <td>1.000000</td>\n",
       "      <td>0.852399</td>\n",
       "    </tr>\n",
       "    <tr>\n",
       "      <th>ghg_per_person</th>\n",
       "      <td>-0.168812</td>\n",
       "      <td>-0.133234</td>\n",
       "      <td>-0.022519</td>\n",
       "      <td>0.053754</td>\n",
       "      <td>0.852399</td>\n",
       "      <td>1.000000</td>\n",
       "    </tr>\n",
       "  </tbody>\n",
       "</table>\n",
       "</div>"
      ],
      "text/plain": [
       "                 population  housing_units  elec_mwh  elec_lb_ghg  \\\n",
       "population         1.000000       0.984562  0.931516     0.892108   \n",
       "housing_units      0.984562       1.000000  0.940104     0.893317   \n",
       "elec_mwh           0.931516       0.940104  1.000000     0.931619   \n",
       "elec_lb_ghg        0.892108       0.893317  0.931619     1.000000   \n",
       "elec_per_person   -0.097771      -0.054022  0.082800     0.099667   \n",
       "ghg_per_person    -0.168812      -0.133234 -0.022519     0.053754   \n",
       "\n",
       "                 elec_per_person  ghg_per_person  \n",
       "population             -0.097771       -0.168812  \n",
       "housing_units          -0.054022       -0.133234  \n",
       "elec_mwh                0.082800       -0.022519  \n",
       "elec_lb_ghg             0.099667        0.053754  \n",
       "elec_per_person         1.000000        0.852399  \n",
       "ghg_per_person          0.852399        1.000000  "
      ]
     },
     "execution_count": 162,
     "metadata": {},
     "output_type": "execute_result"
    }
   ],
   "source": [
    "clean_rdf.corr(method ='pearson') "
   ]
  },
  {
   "cell_type": "code",
   "execution_count": 202,
   "metadata": {},
   "outputs": [
    {
     "data": {
      "text/html": [
       "<div>\n",
       "<style scoped>\n",
       "    .dataframe tbody tr th:only-of-type {\n",
       "        vertical-align: middle;\n",
       "    }\n",
       "\n",
       "    .dataframe tbody tr th {\n",
       "        vertical-align: top;\n",
       "    }\n",
       "\n",
       "    .dataframe thead th {\n",
       "        text-align: right;\n",
       "    }\n",
       "</style>\n",
       "<table border=\"1\" class=\"dataframe\">\n",
       "  <thead>\n",
       "    <tr style=\"text-align: right;\">\n",
       "      <th></th>\n",
       "      <th>city</th>\n",
       "      <th>state</th>\n",
       "      <th>population</th>\n",
       "      <th>housing_units</th>\n",
       "      <th>elec_mwh</th>\n",
       "      <th>elec_lb_ghg</th>\n",
       "      <th>elec_per_person</th>\n",
       "      <th>ghg_per_person</th>\n",
       "    </tr>\n",
       "  </thead>\n",
       "  <tbody>\n",
       "    <tr>\n",
       "      <th>11</th>\n",
       "      <td>San Francisco</td>\n",
       "      <td>CA</td>\n",
       "      <td>808976</td>\n",
       "      <td>356797.0</td>\n",
       "      <td>1326629.0</td>\n",
       "      <td>1.776369e+09</td>\n",
       "      <td>1.639887</td>\n",
       "      <td>2195.824097</td>\n",
       "    </tr>\n",
       "    <tr>\n",
       "      <th>12</th>\n",
       "      <td>Jacksonville</td>\n",
       "      <td>FL</td>\n",
       "      <td>807815</td>\n",
       "      <td>322002.0</td>\n",
       "      <td>4430020.0</td>\n",
       "      <td>2.147484e+09</td>\n",
       "      <td>5.483954</td>\n",
       "      <td>2658.385456</td>\n",
       "    </tr>\n",
       "    <tr>\n",
       "      <th>13</th>\n",
       "      <td>Austin</td>\n",
       "      <td>TX</td>\n",
       "      <td>757688</td>\n",
       "      <td>356573.0</td>\n",
       "      <td>3755068.0</td>\n",
       "      <td>2.147484e+09</td>\n",
       "      <td>4.955955</td>\n",
       "      <td>2834.258490</td>\n",
       "    </tr>\n",
       "    <tr>\n",
       "      <th>14</th>\n",
       "      <td>Columbus</td>\n",
       "      <td>OH</td>\n",
       "      <td>754885</td>\n",
       "      <td>337840.0</td>\n",
       "      <td>3276817.0</td>\n",
       "      <td>2.147484e+09</td>\n",
       "      <td>4.340816</td>\n",
       "      <td>2844.782513</td>\n",
       "    </tr>\n",
       "    <tr>\n",
       "      <th>15</th>\n",
       "      <td>Fort Worth</td>\n",
       "      <td>TX</td>\n",
       "      <td>703073</td>\n",
       "      <td>276975.0</td>\n",
       "      <td>3742151.0</td>\n",
       "      <td>2.147484e+09</td>\n",
       "      <td>5.322564</td>\n",
       "      <td>3054.424856</td>\n",
       "    </tr>\n",
       "  </tbody>\n",
       "</table>\n",
       "</div>"
      ],
      "text/plain": [
       "              city state  population  housing_units   elec_mwh   elec_lb_ghg  \\\n",
       "11  San Francisco     CA      808976       356797.0  1326629.0  1.776369e+09   \n",
       "12   Jacksonville     FL      807815       322002.0  4430020.0  2.147484e+09   \n",
       "13         Austin     TX      757688       356573.0  3755068.0  2.147484e+09   \n",
       "14       Columbus     OH      754885       337840.0  3276817.0  2.147484e+09   \n",
       "15     Fort Worth     TX      703073       276975.0  3742151.0  2.147484e+09   \n",
       "\n",
       "    elec_per_person  ghg_per_person  \n",
       "11         1.639887     2195.824097  \n",
       "12         5.483954     2658.385456  \n",
       "13         4.955955     2834.258490  \n",
       "14         4.340816     2844.782513  \n",
       "15         5.322564     3054.424856  "
      ]
     },
     "execution_count": 202,
     "metadata": {},
     "output_type": "execute_result"
    }
   ],
   "source": [
    "clean_rdf.head()"
   ]
  },
  {
   "cell_type": "code",
   "execution_count": 221,
   "metadata": {},
   "outputs": [],
   "source": [
    "clean_rdf['elec_per_res_building'] =  clean_rdf['elec_mwh'] / clean_rdf['housing_units']"
   ]
  },
  {
   "cell_type": "code",
   "execution_count": 222,
   "metadata": {},
   "outputs": [],
   "source": [
    "clean_rdf['people_per_building'] = clean_rdf['population'] / clean_rdf['housing_units']"
   ]
  },
  {
   "cell_type": "code",
   "execution_count": 228,
   "metadata": {},
   "outputs": [
    {
     "data": {
      "text/html": [
       "<div>\n",
       "<style scoped>\n",
       "    .dataframe tbody tr th:only-of-type {\n",
       "        vertical-align: middle;\n",
       "    }\n",
       "\n",
       "    .dataframe tbody tr th {\n",
       "        vertical-align: top;\n",
       "    }\n",
       "\n",
       "    .dataframe thead th {\n",
       "        text-align: right;\n",
       "    }\n",
       "</style>\n",
       "<table border=\"1\" class=\"dataframe\">\n",
       "  <thead>\n",
       "    <tr style=\"text-align: right;\">\n",
       "      <th></th>\n",
       "      <th>city</th>\n",
       "      <th>state</th>\n",
       "      <th>population</th>\n",
       "      <th>housing_units</th>\n",
       "      <th>elec_mwh</th>\n",
       "      <th>elec_lb_ghg</th>\n",
       "      <th>elec_per_person</th>\n",
       "      <th>ghg_per_person</th>\n",
       "      <th>elec_per_house</th>\n",
       "      <th>elec_per_res_building</th>\n",
       "      <th>people_per_building</th>\n",
       "    </tr>\n",
       "  </thead>\n",
       "  <tbody>\n",
       "    <tr>\n",
       "      <th>4673</th>\n",
       "      <td>Hunters Creek Village</td>\n",
       "      <td>TX</td>\n",
       "      <td>4577</td>\n",
       "      <td>1563.0</td>\n",
       "      <td>38750.0</td>\n",
       "      <td>51886536.0</td>\n",
       "      <td>8.466244</td>\n",
       "      <td>11336.363557</td>\n",
       "      <td>0.040335</td>\n",
       "      <td>24.792067</td>\n",
       "      <td>2.928343</td>\n",
       "    </tr>\n",
       "    <tr>\n",
       "      <th>2468</th>\n",
       "      <td>East Wenatchee</td>\n",
       "      <td>WA</td>\n",
       "      <td>12286</td>\n",
       "      <td>4982.0</td>\n",
       "      <td>115486.0</td>\n",
       "      <td>142442600.0</td>\n",
       "      <td>9.399805</td>\n",
       "      <td>11593.895491</td>\n",
       "      <td>0.043139</td>\n",
       "      <td>23.180650</td>\n",
       "      <td>2.466078</td>\n",
       "    </tr>\n",
       "    <tr>\n",
       "      <th>1765</th>\n",
       "      <td>Pinecrest</td>\n",
       "      <td>FL</td>\n",
       "      <td>18614</td>\n",
       "      <td>6022.0</td>\n",
       "      <td>137127.0</td>\n",
       "      <td>193487637.0</td>\n",
       "      <td>7.366874</td>\n",
       "      <td>10394.737133</td>\n",
       "      <td>0.043915</td>\n",
       "      <td>22.771006</td>\n",
       "      <td>3.091000</td>\n",
       "    </tr>\n",
       "    <tr>\n",
       "      <th>1424</th>\n",
       "      <td>Parkland</td>\n",
       "      <td>FL</td>\n",
       "      <td>24017</td>\n",
       "      <td>8591.0</td>\n",
       "      <td>191248.0</td>\n",
       "      <td>269852562.0</td>\n",
       "      <td>7.963026</td>\n",
       "      <td>11235.897989</td>\n",
       "      <td>0.044921</td>\n",
       "      <td>22.261436</td>\n",
       "      <td>2.795600</td>\n",
       "    </tr>\n",
       "    <tr>\n",
       "      <th>3910</th>\n",
       "      <td>Crete</td>\n",
       "      <td>NE</td>\n",
       "      <td>6241</td>\n",
       "      <td>2340.0</td>\n",
       "      <td>51715.0</td>\n",
       "      <td>55974338.0</td>\n",
       "      <td>8.286332</td>\n",
       "      <td>8968.809165</td>\n",
       "      <td>0.045248</td>\n",
       "      <td>22.100427</td>\n",
       "      <td>2.667094</td>\n",
       "    </tr>\n",
       "    <tr>\n",
       "      <th>3024</th>\n",
       "      <td>Highland Park</td>\n",
       "      <td>TX</td>\n",
       "      <td>9184</td>\n",
       "      <td>3501.0</td>\n",
       "      <td>74111.0</td>\n",
       "      <td>99234852.0</td>\n",
       "      <td>8.069578</td>\n",
       "      <td>10805.188589</td>\n",
       "      <td>0.047240</td>\n",
       "      <td>21.168523</td>\n",
       "      <td>2.623250</td>\n",
       "    </tr>\n",
       "    <tr>\n",
       "      <th>1366</th>\n",
       "      <td>University Park</td>\n",
       "      <td>TX</td>\n",
       "      <td>24853</td>\n",
       "      <td>7495.0</td>\n",
       "      <td>158306.0</td>\n",
       "      <td>211972340.0</td>\n",
       "      <td>6.369694</td>\n",
       "      <td>8529.044381</td>\n",
       "      <td>0.047345</td>\n",
       "      <td>21.121548</td>\n",
       "      <td>3.315944</td>\n",
       "    </tr>\n",
       "    <tr>\n",
       "      <th>3570</th>\n",
       "      <td>Southwest Ranches</td>\n",
       "      <td>FL</td>\n",
       "      <td>7229</td>\n",
       "      <td>2294.0</td>\n",
       "      <td>48377.0</td>\n",
       "      <td>68260936.0</td>\n",
       "      <td>6.692074</td>\n",
       "      <td>9442.652649</td>\n",
       "      <td>0.047419</td>\n",
       "      <td>21.088492</td>\n",
       "      <td>3.151264</td>\n",
       "    </tr>\n",
       "    <tr>\n",
       "      <th>1281</th>\n",
       "      <td>Southlake</td>\n",
       "      <td>TX</td>\n",
       "      <td>26595</td>\n",
       "      <td>9041.0</td>\n",
       "      <td>188674.0</td>\n",
       "      <td>252634780.0</td>\n",
       "      <td>7.094341</td>\n",
       "      <td>9499.333709</td>\n",
       "      <td>0.047919</td>\n",
       "      <td>20.868709</td>\n",
       "      <td>2.941599</td>\n",
       "    </tr>\n",
       "    <tr>\n",
       "      <th>2109</th>\n",
       "      <td>Paradise Valley</td>\n",
       "      <td>AZ</td>\n",
       "      <td>14990</td>\n",
       "      <td>5335.0</td>\n",
       "      <td>108410.0</td>\n",
       "      <td>139232787.0</td>\n",
       "      <td>7.232155</td>\n",
       "      <td>9288.378052</td>\n",
       "      <td>0.049211</td>\n",
       "      <td>20.320525</td>\n",
       "      <td>2.809747</td>\n",
       "    </tr>\n",
       "  </tbody>\n",
       "</table>\n",
       "</div>"
      ],
      "text/plain": [
       "                        city state  population  housing_units  elec_mwh  \\\n",
       "4673  Hunters Creek Village     TX        4577         1563.0   38750.0   \n",
       "2468         East Wenatchee     WA       12286         4982.0  115486.0   \n",
       "1765               Pinecrest    FL       18614         6022.0  137127.0   \n",
       "1424               Parkland     FL       24017         8591.0  191248.0   \n",
       "3910                  Crete     NE        6241         2340.0   51715.0   \n",
       "3024           Highland Park    TX        9184         3501.0   74111.0   \n",
       "1366        University Park     TX       24853         7495.0  158306.0   \n",
       "3570       Southwest Ranches    FL        7229         2294.0   48377.0   \n",
       "1281              Southlake     TX       26595         9041.0  188674.0   \n",
       "2109         Paradise Valley    AZ       14990         5335.0  108410.0   \n",
       "\n",
       "      elec_lb_ghg  elec_per_person  ghg_per_person  elec_per_house  \\\n",
       "4673   51886536.0         8.466244    11336.363557        0.040335   \n",
       "2468  142442600.0         9.399805    11593.895491        0.043139   \n",
       "1765  193487637.0         7.366874    10394.737133        0.043915   \n",
       "1424  269852562.0         7.963026    11235.897989        0.044921   \n",
       "3910   55974338.0         8.286332     8968.809165        0.045248   \n",
       "3024   99234852.0         8.069578    10805.188589        0.047240   \n",
       "1366  211972340.0         6.369694     8529.044381        0.047345   \n",
       "3570   68260936.0         6.692074     9442.652649        0.047419   \n",
       "1281  252634780.0         7.094341     9499.333709        0.047919   \n",
       "2109  139232787.0         7.232155     9288.378052        0.049211   \n",
       "\n",
       "      elec_per_res_building  people_per_building  \n",
       "4673              24.792067             2.928343  \n",
       "2468              23.180650             2.466078  \n",
       "1765              22.771006             3.091000  \n",
       "1424              22.261436             2.795600  \n",
       "3910              22.100427             2.667094  \n",
       "3024              21.168523             2.623250  \n",
       "1366              21.121548             3.315944  \n",
       "3570              21.088492             3.151264  \n",
       "1281              20.868709             2.941599  \n",
       "2109              20.320525             2.809747  "
      ]
     },
     "execution_count": 228,
     "metadata": {},
     "output_type": "execute_result"
    }
   ],
   "source": [
    "clean_rdf.sort_values('elec_per_res_building', ascending=False).head(10)"
   ]
  },
  {
   "cell_type": "code",
   "execution_count": 210,
   "metadata": {},
   "outputs": [
    {
     "name": "stderr",
     "output_type": "stream",
     "text": [
      "/Users/kylebaranko/anaconda3/envs/learn-env/lib/python3.6/site-packages/scipy/stats/stats.py:1713: FutureWarning: Using a non-tuple sequence for multidimensional indexing is deprecated; use `arr[tuple(seq)]` instead of `arr[seq]`. In the future this will be interpreted as an array index, `arr[np.array(seq)]`, which will result either in an error or a different result.\n",
      "  return np.add.reduce(sorted[indexer] * weights, axis=axis) / sumval\n"
     ]
    },
    {
     "data": {
      "text/plain": [
       "<matplotlib.axes._subplots.AxesSubplot at 0x1a1f568b38>"
      ]
     },
     "execution_count": 210,
     "metadata": {},
     "output_type": "execute_result"
    },
    {
     "data": {
      "image/png": "[encoded data removed]",
      "text/plain": [
       "<Figure size 432x288 with 1 Axes>"
      ]
     },
     "metadata": {
      "needs_background": "light"
     },
     "output_type": "display_data"
    }
   ],
   "source": [
    "sns.distplot(populous_bois['elec_per_res_building'], bins=50)"
   ]
  },
  {
   "cell_type": "code",
   "execution_count": 226,
   "metadata": {},
   "outputs": [
    {
     "name": "stderr",
     "output_type": "stream",
     "text": [
      "/Users/kylebaranko/anaconda3/envs/learn-env/lib/python3.6/site-packages/numpy/lib/histograms.py:824: RuntimeWarning: invalid value encountered in greater_equal\n",
      "  keep = (tmp_a >= first_edge)\n",
      "/Users/kylebaranko/anaconda3/envs/learn-env/lib/python3.6/site-packages/numpy/lib/histograms.py:825: RuntimeWarning: invalid value encountered in less_equal\n",
      "  keep &= (tmp_a <= last_edge)\n",
      "/Users/kylebaranko/anaconda3/envs/learn-env/lib/python3.6/site-packages/statsmodels/nonparametric/kde.py:448: RuntimeWarning: invalid value encountered in greater\n",
      "  X = X[np.logical_and(X > clip[0], X < clip[1])] # won't work for two columns.\n",
      "/Users/kylebaranko/anaconda3/envs/learn-env/lib/python3.6/site-packages/statsmodels/nonparametric/kde.py:448: RuntimeWarning: invalid value encountered in less\n",
      "  X = X[np.logical_and(X > clip[0], X < clip[1])] # won't work for two columns.\n",
      "/Users/kylebaranko/anaconda3/envs/learn-env/lib/python3.6/site-packages/scipy/stats/stats.py:1713: FutureWarning: Using a non-tuple sequence for multidimensional indexing is deprecated; use `arr[tuple(seq)]` instead of `arr[seq]`. In the future this will be interpreted as an array index, `arr[np.array(seq)]`, which will result either in an error or a different result.\n",
      "  return np.add.reduce(sorted[indexer] * weights, axis=axis) / sumval\n"
     ]
    },
    {
     "data": {
      "text/plain": [
       "<matplotlib.axes._subplots.AxesSubplot at 0x1a1ee6a198>"
      ]
     },
     "execution_count": 226,
     "metadata": {},
     "output_type": "execute_result"
    },
    {
     "data": {
      "image/png": "[encoded data removed]",
      "text/plain": [
       "<Figure size 432x288 with 1 Axes>"
      ]
     },
     "metadata": {
      "needs_background": "light"
     },
     "output_type": "display_data"
    }
   ],
   "source": [
    "sns.distplot(clean_rdf['elec_per_res_building'], bins=50)"
   ]
  },
  {
   "cell_type": "code",
   "execution_count": 245,
   "metadata": {},
   "outputs": [
    {
     "name": "stderr",
     "output_type": "stream",
     "text": [
      "/Users/kylebaranko/anaconda3/envs/learn-env/lib/python3.6/site-packages/scipy/stats/stats.py:1713: FutureWarning: Using a non-tuple sequence for multidimensional indexing is deprecated; use `arr[tuple(seq)]` instead of `arr[seq]`. In the future this will be interpreted as an array index, `arr[np.array(seq)]`, which will result either in an error or a different result.\n",
      "  return np.add.reduce(sorted[indexer] * weights, axis=axis) / sumval\n"
     ]
    },
    {
     "data": {
      "text/plain": [
       "Text(27.125, 0.5, 'MWh per Residence')"
      ]
     },
     "execution_count": 245,
     "metadata": {},
     "output_type": "execute_result"
    },
    {
     "data": {
      "text/plain": [
       "<Figure size 720x720 with 0 Axes>"
      ]
     },
     "metadata": {},
     "output_type": "display_data"
    },
    {
     "data": {
      "image/png": "[encoded data removed]",
      "text/plain": [
       "<Figure size 432x432 with 3 Axes>"
      ]
     },
     "metadata": {
      "needs_background": "light"
     },
     "output_type": "display_data"
    }
   ],
   "source": [
    "plt.figure(figsize=(10,10))\n",
    "sns.jointplot(x='housing_units', y='elec_per_res_building', data= clean_rdf, kind=\"reg\", color=\"purple\")\n",
    "plt.xlabel('Number of Housing Units', fontsize=12)\n",
    "plt.ylabel('MWh per Residence', fontsize=12)"
   ]
  },
  {
   "cell_type": "code",
   "execution_count": null,
   "metadata": {},
   "outputs": [],
   "source": []
  },
  {
   "cell_type": "code",
   "execution_count": 241,
   "metadata": {},
   "outputs": [
    {
     "data": {
      "text/plain": [
       "(1.5644224627095365e-07, -5.115515957508341)"
      ]
     },
     "execution_count": 241,
     "metadata": {},
     "output_type": "execute_result"
    }
   ],
   "source": [
    "mu = clean_rdf['elec_per_res_building'].mean()\n",
    "sigma = clean_rdf['elec_per_res_building'].std() \n",
    "n= len(populous_bois)\n",
    "x_bar = populous_bois['elec_per_res_building'].mean()\n",
    "z = (x_bar - mu)/(sigma/math.sqrt(n))\n",
    "\n",
    "p = stats.norm.cdf(z)\n",
    "\n",
    "p,z"
   ]
  },
  {
   "cell_type": "code",
   "execution_count": 236,
   "metadata": {
    "scrolled": true
   },
   "outputs": [
    {
     "data": {
      "text/html": [
       "<div>\n",
       "<style scoped>\n",
       "    .dataframe tbody tr th:only-of-type {\n",
       "        vertical-align: middle;\n",
       "    }\n",
       "\n",
       "    .dataframe tbody tr th {\n",
       "        vertical-align: top;\n",
       "    }\n",
       "\n",
       "    .dataframe thead th {\n",
       "        text-align: right;\n",
       "    }\n",
       "</style>\n",
       "<table border=\"1\" class=\"dataframe\">\n",
       "  <thead>\n",
       "    <tr style=\"text-align: right;\">\n",
       "      <th></th>\n",
       "      <th>elec_per_res_building</th>\n",
       "    </tr>\n",
       "  </thead>\n",
       "  <tbody>\n",
       "    <tr>\n",
       "      <th>11</th>\n",
       "      <td>3.718162</td>\n",
       "    </tr>\n",
       "    <tr>\n",
       "      <th>12</th>\n",
       "      <td>13.757741</td>\n",
       "    </tr>\n",
       "    <tr>\n",
       "      <th>13</th>\n",
       "      <td>10.530994</td>\n",
       "    </tr>\n",
       "    <tr>\n",
       "      <th>14</th>\n",
       "      <td>9.699316</td>\n",
       "    </tr>\n",
       "    <tr>\n",
       "      <th>15</th>\n",
       "      <td>13.510790</td>\n",
       "    </tr>\n",
       "    <tr>\n",
       "      <th>16</th>\n",
       "      <td>11.634233</td>\n",
       "    </tr>\n",
       "    <tr>\n",
       "      <th>17</th>\n",
       "      <td>14.181144</td>\n",
       "    </tr>\n",
       "    <tr>\n",
       "      <th>18</th>\n",
       "      <td>9.455429</td>\n",
       "    </tr>\n",
       "    <tr>\n",
       "      <th>19</th>\n",
       "      <td>7.594425</td>\n",
       "    </tr>\n",
       "    <tr>\n",
       "      <th>20</th>\n",
       "      <td>5.113364</td>\n",
       "    </tr>\n",
       "    <tr>\n",
       "      <th>21</th>\n",
       "      <td>7.338790</td>\n",
       "    </tr>\n",
       "    <tr>\n",
       "      <th>22</th>\n",
       "      <td>6.679837</td>\n",
       "    </tr>\n",
       "    <tr>\n",
       "      <th>23</th>\n",
       "      <td>7.409118</td>\n",
       "    </tr>\n",
       "    <tr>\n",
       "      <th>24</th>\n",
       "      <td>9.647780</td>\n",
       "    </tr>\n",
       "    <tr>\n",
       "      <th>25</th>\n",
       "      <td>12.231498</td>\n",
       "    </tr>\n",
       "    <tr>\n",
       "      <th>26</th>\n",
       "      <td>8.567723</td>\n",
       "    </tr>\n",
       "    <tr>\n",
       "      <th>27</th>\n",
       "      <td>12.466585</td>\n",
       "    </tr>\n",
       "    <tr>\n",
       "      <th>28</th>\n",
       "      <td>9.327476</td>\n",
       "    </tr>\n",
       "    <tr>\n",
       "      <th>29</th>\n",
       "      <td>10.577825</td>\n",
       "    </tr>\n",
       "    <tr>\n",
       "      <th>30</th>\n",
       "      <td>6.538486</td>\n",
       "    </tr>\n",
       "    <tr>\n",
       "      <th>31</th>\n",
       "      <td>7.619005</td>\n",
       "    </tr>\n",
       "    <tr>\n",
       "      <th>32</th>\n",
       "      <td>7.587361</td>\n",
       "    </tr>\n",
       "    <tr>\n",
       "      <th>33</th>\n",
       "      <td>4.917461</td>\n",
       "    </tr>\n",
       "    <tr>\n",
       "      <th>34</th>\n",
       "      <td>13.093708</td>\n",
       "    </tr>\n",
       "    <tr>\n",
       "      <th>35</th>\n",
       "      <td>10.351121</td>\n",
       "    </tr>\n",
       "    <tr>\n",
       "      <th>36</th>\n",
       "      <td>11.091597</td>\n",
       "    </tr>\n",
       "    <tr>\n",
       "      <th>37</th>\n",
       "      <td>6.668900</td>\n",
       "    </tr>\n",
       "    <tr>\n",
       "      <th>38</th>\n",
       "      <td>14.143331</td>\n",
       "    </tr>\n",
       "    <tr>\n",
       "      <th>39</th>\n",
       "      <td>11.772681</td>\n",
       "    </tr>\n",
       "    <tr>\n",
       "      <th>40</th>\n",
       "      <td>4.577814</td>\n",
       "    </tr>\n",
       "    <tr>\n",
       "      <th>...</th>\n",
       "      <td>...</td>\n",
       "    </tr>\n",
       "    <tr>\n",
       "      <th>4847</th>\n",
       "      <td>11.843632</td>\n",
       "    </tr>\n",
       "    <tr>\n",
       "      <th>4848</th>\n",
       "      <td>14.673300</td>\n",
       "    </tr>\n",
       "    <tr>\n",
       "      <th>4849</th>\n",
       "      <td>9.750000</td>\n",
       "    </tr>\n",
       "    <tr>\n",
       "      <th>4850</th>\n",
       "      <td>8.907921</td>\n",
       "    </tr>\n",
       "    <tr>\n",
       "      <th>4851</th>\n",
       "      <td>13.039398</td>\n",
       "    </tr>\n",
       "    <tr>\n",
       "      <th>4852</th>\n",
       "      <td>7.786152</td>\n",
       "    </tr>\n",
       "    <tr>\n",
       "      <th>4853</th>\n",
       "      <td>15.686864</td>\n",
       "    </tr>\n",
       "    <tr>\n",
       "      <th>4855</th>\n",
       "      <td>13.278556</td>\n",
       "    </tr>\n",
       "    <tr>\n",
       "      <th>4856</th>\n",
       "      <td>7.057157</td>\n",
       "    </tr>\n",
       "    <tr>\n",
       "      <th>4857</th>\n",
       "      <td>7.815057</td>\n",
       "    </tr>\n",
       "    <tr>\n",
       "      <th>4858</th>\n",
       "      <td>16.273504</td>\n",
       "    </tr>\n",
       "    <tr>\n",
       "      <th>4859</th>\n",
       "      <td>15.025249</td>\n",
       "    </tr>\n",
       "    <tr>\n",
       "      <th>4860</th>\n",
       "      <td>12.044420</td>\n",
       "    </tr>\n",
       "    <tr>\n",
       "      <th>4861</th>\n",
       "      <td>13.807368</td>\n",
       "    </tr>\n",
       "    <tr>\n",
       "      <th>4863</th>\n",
       "      <td>9.967292</td>\n",
       "    </tr>\n",
       "    <tr>\n",
       "      <th>4864</th>\n",
       "      <td>11.685432</td>\n",
       "    </tr>\n",
       "    <tr>\n",
       "      <th>4865</th>\n",
       "      <td>15.202396</td>\n",
       "    </tr>\n",
       "    <tr>\n",
       "      <th>4866</th>\n",
       "      <td>15.766559</td>\n",
       "    </tr>\n",
       "    <tr>\n",
       "      <th>4867</th>\n",
       "      <td>11.605730</td>\n",
       "    </tr>\n",
       "    <tr>\n",
       "      <th>4868</th>\n",
       "      <td>13.328306</td>\n",
       "    </tr>\n",
       "    <tr>\n",
       "      <th>4869</th>\n",
       "      <td>10.534097</td>\n",
       "    </tr>\n",
       "    <tr>\n",
       "      <th>4870</th>\n",
       "      <td>9.609994</td>\n",
       "    </tr>\n",
       "    <tr>\n",
       "      <th>4872</th>\n",
       "      <td>14.049782</td>\n",
       "    </tr>\n",
       "    <tr>\n",
       "      <th>4873</th>\n",
       "      <td>7.935897</td>\n",
       "    </tr>\n",
       "    <tr>\n",
       "      <th>4874</th>\n",
       "      <td>7.879133</td>\n",
       "    </tr>\n",
       "    <tr>\n",
       "      <th>4875</th>\n",
       "      <td>10.167874</td>\n",
       "    </tr>\n",
       "    <tr>\n",
       "      <th>4876</th>\n",
       "      <td>12.598291</td>\n",
       "    </tr>\n",
       "    <tr>\n",
       "      <th>4877</th>\n",
       "      <td>9.733950</td>\n",
       "    </tr>\n",
       "    <tr>\n",
       "      <th>4878</th>\n",
       "      <td>14.347162</td>\n",
       "    </tr>\n",
       "    <tr>\n",
       "      <th>4879</th>\n",
       "      <td>14.635411</td>\n",
       "    </tr>\n",
       "  </tbody>\n",
       "</table>\n",
       "<p>4847 rows × 1 columns</p>\n",
       "</div>"
      ],
      "text/plain": [
       "      elec_per_res_building\n",
       "11                 3.718162\n",
       "12                13.757741\n",
       "13                10.530994\n",
       "14                 9.699316\n",
       "15                13.510790\n",
       "16                11.634233\n",
       "17                14.181144\n",
       "18                 9.455429\n",
       "19                 7.594425\n",
       "20                 5.113364\n",
       "21                 7.338790\n",
       "22                 6.679837\n",
       "23                 7.409118\n",
       "24                 9.647780\n",
       "25                12.231498\n",
       "26                 8.567723\n",
       "27                12.466585\n",
       "28                 9.327476\n",
       "29                10.577825\n",
       "30                 6.538486\n",
       "31                 7.619005\n",
       "32                 7.587361\n",
       "33                 4.917461\n",
       "34                13.093708\n",
       "35                10.351121\n",
       "36                11.091597\n",
       "37                 6.668900\n",
       "38                14.143331\n",
       "39                11.772681\n",
       "40                 4.577814\n",
       "...                     ...\n",
       "4847              11.843632\n",
       "4848              14.673300\n",
       "4849               9.750000\n",
       "4850               8.907921\n",
       "4851              13.039398\n",
       "4852               7.786152\n",
       "4853              15.686864\n",
       "4855              13.278556\n",
       "4856               7.057157\n",
       "4857               7.815057\n",
       "4858              16.273504\n",
       "4859              15.025249\n",
       "4860              12.044420\n",
       "4861              13.807368\n",
       "4863               9.967292\n",
       "4864              11.685432\n",
       "4865              15.202396\n",
       "4866              15.766559\n",
       "4867              11.605730\n",
       "4868              13.328306\n",
       "4869              10.534097\n",
       "4870               9.609994\n",
       "4872              14.049782\n",
       "4873               7.935897\n",
       "4874               7.879133\n",
       "4875              10.167874\n",
       "4876              12.598291\n",
       "4877               9.733950\n",
       "4878              14.347162\n",
       "4879              14.635411\n",
       "\n",
       "[4847 rows x 1 columns]"
      ]
     },
     "execution_count": 236,
     "metadata": {},
     "output_type": "execute_result"
    }
   ],
   "source": [
    "clean_rdf[['elec_per_res_building']]"
   ]
  },
  {
   "cell_type": "code",
   "execution_count": 239,
   "metadata": {
    "scrolled": true
   },
   "outputs": [
    {
     "data": {
      "text/html": [
       "<div>\n",
       "<style scoped>\n",
       "    .dataframe tbody tr th:only-of-type {\n",
       "        vertical-align: middle;\n",
       "    }\n",
       "\n",
       "    .dataframe tbody tr th {\n",
       "        vertical-align: top;\n",
       "    }\n",
       "\n",
       "    .dataframe thead th {\n",
       "        text-align: right;\n",
       "    }\n",
       "</style>\n",
       "<table border=\"1\" class=\"dataframe\">\n",
       "  <thead>\n",
       "    <tr style=\"text-align: right;\">\n",
       "      <th></th>\n",
       "      <th>elec_per_res_building</th>\n",
       "    </tr>\n",
       "  </thead>\n",
       "  <tbody>\n",
       "    <tr>\n",
       "      <th>11</th>\n",
       "      <td>3.718162</td>\n",
       "    </tr>\n",
       "    <tr>\n",
       "      <th>12</th>\n",
       "      <td>13.757741</td>\n",
       "    </tr>\n",
       "    <tr>\n",
       "      <th>13</th>\n",
       "      <td>10.530994</td>\n",
       "    </tr>\n",
       "    <tr>\n",
       "      <th>14</th>\n",
       "      <td>9.699316</td>\n",
       "    </tr>\n",
       "    <tr>\n",
       "      <th>15</th>\n",
       "      <td>13.510790</td>\n",
       "    </tr>\n",
       "    <tr>\n",
       "      <th>16</th>\n",
       "      <td>11.634233</td>\n",
       "    </tr>\n",
       "    <tr>\n",
       "      <th>17</th>\n",
       "      <td>14.181144</td>\n",
       "    </tr>\n",
       "    <tr>\n",
       "      <th>18</th>\n",
       "      <td>9.455429</td>\n",
       "    </tr>\n",
       "    <tr>\n",
       "      <th>19</th>\n",
       "      <td>7.594425</td>\n",
       "    </tr>\n",
       "    <tr>\n",
       "      <th>20</th>\n",
       "      <td>5.113364</td>\n",
       "    </tr>\n",
       "    <tr>\n",
       "      <th>21</th>\n",
       "      <td>7.338790</td>\n",
       "    </tr>\n",
       "    <tr>\n",
       "      <th>22</th>\n",
       "      <td>6.679837</td>\n",
       "    </tr>\n",
       "    <tr>\n",
       "      <th>23</th>\n",
       "      <td>7.409118</td>\n",
       "    </tr>\n",
       "    <tr>\n",
       "      <th>24</th>\n",
       "      <td>9.647780</td>\n",
       "    </tr>\n",
       "    <tr>\n",
       "      <th>25</th>\n",
       "      <td>12.231498</td>\n",
       "    </tr>\n",
       "    <tr>\n",
       "      <th>26</th>\n",
       "      <td>8.567723</td>\n",
       "    </tr>\n",
       "    <tr>\n",
       "      <th>27</th>\n",
       "      <td>12.466585</td>\n",
       "    </tr>\n",
       "    <tr>\n",
       "      <th>28</th>\n",
       "      <td>9.327476</td>\n",
       "    </tr>\n",
       "    <tr>\n",
       "      <th>29</th>\n",
       "      <td>10.577825</td>\n",
       "    </tr>\n",
       "    <tr>\n",
       "      <th>30</th>\n",
       "      <td>6.538486</td>\n",
       "    </tr>\n",
       "    <tr>\n",
       "      <th>31</th>\n",
       "      <td>7.619005</td>\n",
       "    </tr>\n",
       "    <tr>\n",
       "      <th>32</th>\n",
       "      <td>7.587361</td>\n",
       "    </tr>\n",
       "    <tr>\n",
       "      <th>33</th>\n",
       "      <td>4.917461</td>\n",
       "    </tr>\n",
       "    <tr>\n",
       "      <th>34</th>\n",
       "      <td>13.093708</td>\n",
       "    </tr>\n",
       "    <tr>\n",
       "      <th>35</th>\n",
       "      <td>10.351121</td>\n",
       "    </tr>\n",
       "    <tr>\n",
       "      <th>36</th>\n",
       "      <td>11.091597</td>\n",
       "    </tr>\n",
       "    <tr>\n",
       "      <th>37</th>\n",
       "      <td>6.668900</td>\n",
       "    </tr>\n",
       "    <tr>\n",
       "      <th>38</th>\n",
       "      <td>14.143331</td>\n",
       "    </tr>\n",
       "    <tr>\n",
       "      <th>39</th>\n",
       "      <td>11.772681</td>\n",
       "    </tr>\n",
       "    <tr>\n",
       "      <th>40</th>\n",
       "      <td>4.577814</td>\n",
       "    </tr>\n",
       "    <tr>\n",
       "      <th>...</th>\n",
       "      <td>...</td>\n",
       "    </tr>\n",
       "    <tr>\n",
       "      <th>231</th>\n",
       "      <td>12.318250</td>\n",
       "    </tr>\n",
       "    <tr>\n",
       "      <th>232</th>\n",
       "      <td>15.078605</td>\n",
       "    </tr>\n",
       "    <tr>\n",
       "      <th>233</th>\n",
       "      <td>7.502539</td>\n",
       "    </tr>\n",
       "    <tr>\n",
       "      <th>234</th>\n",
       "      <td>6.876896</td>\n",
       "    </tr>\n",
       "    <tr>\n",
       "      <th>235</th>\n",
       "      <td>12.062247</td>\n",
       "    </tr>\n",
       "    <tr>\n",
       "      <th>236</th>\n",
       "      <td>4.601904</td>\n",
       "    </tr>\n",
       "    <tr>\n",
       "      <th>237</th>\n",
       "      <td>7.185163</td>\n",
       "    </tr>\n",
       "    <tr>\n",
       "      <th>238</th>\n",
       "      <td>9.325329</td>\n",
       "    </tr>\n",
       "    <tr>\n",
       "      <th>239</th>\n",
       "      <td>12.228051</td>\n",
       "    </tr>\n",
       "    <tr>\n",
       "      <th>240</th>\n",
       "      <td>7.333461</td>\n",
       "    </tr>\n",
       "    <tr>\n",
       "      <th>241</th>\n",
       "      <td>6.768759</td>\n",
       "    </tr>\n",
       "    <tr>\n",
       "      <th>242</th>\n",
       "      <td>9.081620</td>\n",
       "    </tr>\n",
       "    <tr>\n",
       "      <th>243</th>\n",
       "      <td>6.375915</td>\n",
       "    </tr>\n",
       "    <tr>\n",
       "      <th>244</th>\n",
       "      <td>6.359675</td>\n",
       "    </tr>\n",
       "    <tr>\n",
       "      <th>245</th>\n",
       "      <td>5.709974</td>\n",
       "    </tr>\n",
       "    <tr>\n",
       "      <th>246</th>\n",
       "      <td>6.114897</td>\n",
       "    </tr>\n",
       "    <tr>\n",
       "      <th>247</th>\n",
       "      <td>4.504110</td>\n",
       "    </tr>\n",
       "    <tr>\n",
       "      <th>248</th>\n",
       "      <td>12.628849</td>\n",
       "    </tr>\n",
       "    <tr>\n",
       "      <th>249</th>\n",
       "      <td>14.260756</td>\n",
       "    </tr>\n",
       "    <tr>\n",
       "      <th>250</th>\n",
       "      <td>15.239714</td>\n",
       "    </tr>\n",
       "    <tr>\n",
       "      <th>251</th>\n",
       "      <td>12.522252</td>\n",
       "    </tr>\n",
       "    <tr>\n",
       "      <th>252</th>\n",
       "      <td>13.886364</td>\n",
       "    </tr>\n",
       "    <tr>\n",
       "      <th>253</th>\n",
       "      <td>4.876980</td>\n",
       "    </tr>\n",
       "    <tr>\n",
       "      <th>254</th>\n",
       "      <td>3.916534</td>\n",
       "    </tr>\n",
       "    <tr>\n",
       "      <th>255</th>\n",
       "      <td>10.355245</td>\n",
       "    </tr>\n",
       "    <tr>\n",
       "      <th>256</th>\n",
       "      <td>13.046677</td>\n",
       "    </tr>\n",
       "    <tr>\n",
       "      <th>257</th>\n",
       "      <td>6.445236</td>\n",
       "    </tr>\n",
       "    <tr>\n",
       "      <th>258</th>\n",
       "      <td>9.075197</td>\n",
       "    </tr>\n",
       "    <tr>\n",
       "      <th>259</th>\n",
       "      <td>13.996035</td>\n",
       "    </tr>\n",
       "    <tr>\n",
       "      <th>260</th>\n",
       "      <td>11.678131</td>\n",
       "    </tr>\n",
       "  </tbody>\n",
       "</table>\n",
       "<p>250 rows × 1 columns</p>\n",
       "</div>"
      ],
      "text/plain": [
       "     elec_per_res_building\n",
       "11                3.718162\n",
       "12               13.757741\n",
       "13               10.530994\n",
       "14                9.699316\n",
       "15               13.510790\n",
       "16               11.634233\n",
       "17               14.181144\n",
       "18                9.455429\n",
       "19                7.594425\n",
       "20                5.113364\n",
       "21                7.338790\n",
       "22                6.679837\n",
       "23                7.409118\n",
       "24                9.647780\n",
       "25               12.231498\n",
       "26                8.567723\n",
       "27               12.466585\n",
       "28                9.327476\n",
       "29               10.577825\n",
       "30                6.538486\n",
       "31                7.619005\n",
       "32                7.587361\n",
       "33                4.917461\n",
       "34               13.093708\n",
       "35               10.351121\n",
       "36               11.091597\n",
       "37                6.668900\n",
       "38               14.143331\n",
       "39               11.772681\n",
       "40                4.577814\n",
       "..                     ...\n",
       "231              12.318250\n",
       "232              15.078605\n",
       "233               7.502539\n",
       "234               6.876896\n",
       "235              12.062247\n",
       "236               4.601904\n",
       "237               7.185163\n",
       "238               9.325329\n",
       "239              12.228051\n",
       "240               7.333461\n",
       "241               6.768759\n",
       "242               9.081620\n",
       "243               6.375915\n",
       "244               6.359675\n",
       "245               5.709974\n",
       "246               6.114897\n",
       "247               4.504110\n",
       "248              12.628849\n",
       "249              14.260756\n",
       "250              15.239714\n",
       "251              12.522252\n",
       "252              13.886364\n",
       "253               4.876980\n",
       "254               3.916534\n",
       "255              10.355245\n",
       "256              13.046677\n",
       "257               6.445236\n",
       "258               9.075197\n",
       "259              13.996035\n",
       "260              11.678131\n",
       "\n",
       "[250 rows x 1 columns]"
      ]
     },
     "execution_count": 239,
     "metadata": {},
     "output_type": "execute_result"
    }
   ],
   "source": [
    "populous_bois[['elec_per_res_building']]"
   ]
  },
  {
   "cell_type": "code",
   "execution_count": null,
   "metadata": {},
   "outputs": [],
   "source": []
  },
  {
   "cell_type": "code",
   "execution_count": null,
   "metadata": {},
   "outputs": [],
   "source": []
  }
 ],
 "metadata": {
  "kernelspec": {
   "display_name": "Python 3",
   "language": "python",
   "name": "python3"
  },
  "language_info": {
   "codemirror_mode": {
    "name": "ipython",
    "version": 3
   },
   "file_extension": ".py",
   "mimetype": "text/x-python",
   "name": "python",
   "nbconvert_exporter": "python",
   "pygments_lexer": "ipython3",
   "version": "3.6.6"
  }
 },
 "nbformat": 4,
 "nbformat_minor": 2
}
